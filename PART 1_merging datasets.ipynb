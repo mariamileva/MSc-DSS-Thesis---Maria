{
 "cells": [
  {
   "cell_type": "code",
   "execution_count": 1,
   "metadata": {},
   "outputs": [],
   "source": [
    "# Import all packages\n",
    "import numpy as np\n",
    "import pandas as pd"
   ]
  },
  {
   "cell_type": "code",
   "execution_count": 2,
   "metadata": {},
   "outputs": [],
   "source": [
    "# Import all datasets\n",
    "df_employees = pd.read_excel(\"/data\")\n",
    "df_employee_turnover = pd.read_excel(\"/data\") \n",
    "df_event_report = pd.read_excel (\"/data\")\n",
    "df_terminated_employments = pd.read_excel (\"/data\")\n",
    "df_perf_2017 = pd.read_csv (\"/data\")\n",
    "df_perf_2018 = pd.read_csv (\"/data\")\n",
    "df_perf_2019 = pd.read_csv (\"/data\")\n",
    "df_perf_2020 = pd.read_csv (\"/data\")\n",
    "df_perf_2021 = pd.read_csv (\"/data\")\n",
    "df_perf_2022 = pd.read_csv (\"/data\")\n",
    "df_perf_2023 = pd.read_csv (\"/data\")"
   ]
  },
  {
   "cell_type": "code",
   "execution_count": 3,
   "metadata": {},
   "outputs": [],
   "source": [
    "# Observe only office and field employees from the event report\n",
    "filtered_event_report = df_event_report[df_event_report['Employee Type'].isin(['Office & Field'])]"
   ]
  },
  {
   "cell_type": "code",
   "execution_count": 4,
   "metadata": {},
   "outputs": [],
   "source": [
    "# Observe only office and field employees from the emplyees_turnover_promotions report\n",
    "filtered_employee_turnover = df_employee_turnover[df_employee_turnover['c'].isin(['Office & Field'])]"
   ]
  },
  {
   "cell_type": "code",
   "execution_count": 5,
   "metadata": {},
   "outputs": [],
   "source": [
    "merged_employee_events = filtered_event_report.merge (filtered_employee_turnover, on = \"User/Employee ID\", how = \"left\")"
   ]
  },
  {
   "cell_type": "code",
   "execution_count": null,
   "metadata": {},
   "outputs": [],
   "source": [
    "merged_employee_events.head()\n"
   ]
  },
  {
   "cell_type": "code",
   "execution_count": null,
   "metadata": {},
   "outputs": [],
   "source": [
    "merged_employee_events = merged_employee_events.rename(columns={'User/Employee ID': 'Username'})\n",
    "merged_employee_events.head()"
   ]
  },
  {
   "cell_type": "code",
   "execution_count": 8,
   "metadata": {},
   "outputs": [],
   "source": [
    "# Observe only office and field employees from the event report\n",
    "filtered_employee_data = df_employees[df_employees['Employee Type'].isin(['Office & Field'])]"
   ]
  },
  {
   "cell_type": "code",
   "execution_count": null,
   "metadata": {},
   "outputs": [],
   "source": [
    "filtered_employee_data.head()"
   ]
  },
  {
   "cell_type": "code",
   "execution_count": 10,
   "metadata": {},
   "outputs": [],
   "source": [
    "all_employee_data = filtered_employee_data.merge(merged_employee_events, on = \"Username\", how = \"left\")"
   ]
  },
  {
   "cell_type": "code",
   "execution_count": null,
   "metadata": {},
   "outputs": [],
   "source": [
    "all_employee_data.head()\n",
    "all_employee_data.info()\n",
    "all_employee_data.shape"
   ]
  },
  {
   "cell_type": "code",
   "execution_count": 13,
   "metadata": {},
   "outputs": [],
   "source": [
    "employees_and_terminations = all_employee_data.merge(df_terminated_employments[['Employee ID', 'Termination Date', 'Event (Label)', 'Event Reason Icode (Event Name)', 'Regret Termination']], on='Employee ID', how='left', suffixes = ('', '_new'))"
   ]
  },
  {
   "cell_type": "code",
   "execution_count": 15,
   "metadata": {},
   "outputs": [],
   "source": [
    "employees_and_terminations['Employment Details Termination Date'] = employees_and_terminations['Employment Details Termination Date'].combine_first(employees_and_terminations['Employment Details Termination Date_x']).combine_first(employees_and_terminations['Employment Details Termination Date_y']).combine_first(employees_and_terminations['Termination Date'])"
   ]
  },
  {
   "cell_type": "code",
   "execution_count": 17,
   "metadata": {},
   "outputs": [],
   "source": [
    "def update_employee_status(df):\n",
    "    # Check if 'Employment Details Termination Date' is not null\n",
    "    condition = df['Employment Details Termination Date'].notna()\n",
    "    # Update 'Employee Status' to 'Terminated' where the condition is True\n",
    "    df.loc[condition, 'Employee Status'] = 'Terminated'\n",
    "    return df"
   ]
  },
  {
   "cell_type": "code",
   "execution_count": 18,
   "metadata": {},
   "outputs": [],
   "source": [
    "employees_and_terminations = update_employee_status(employees_and_terminations)"
   ]
  },
  {
   "cell_type": "code",
   "execution_count": 19,
   "metadata": {},
   "outputs": [
    {
     "name": "stdout",
     "output_type": "stream",
     "text": [
      "Active          5989\n",
      "Terminated      3403\n",
      "Unpaid Leave     224\n",
      "Dormant           19\n",
      "Name: Employee Status, dtype: int64\n"
     ]
    }
   ],
   "source": [
    "# Check the distribution of the employee status\n",
    "class_counts_employee_status = employees_and_terminations['Employee Status'].value_counts()\n",
    "print(class_counts_employee_status)"
   ]
  },
  {
   "cell_type": "code",
   "execution_count": 20,
   "metadata": {},
   "outputs": [],
   "source": [
    "# Before merging all performance ratings reports into one, add a 'Year' column to every single one of them and fill in the corresponding year of the annual evalutation\n",
    "df_perf_2017['Year'] = 2017\n",
    "df_perf_2018['Year'] = 2018\n",
    "df_perf_2019['Year'] = 2019\n",
    "df_perf_2020['Year'] = 2020\n",
    "df_perf_2021['Year'] = 2021\n",
    "df_perf_2022['Year'] = 2022\n",
    "df_perf_2023['Year'] = 2023"
   ]
  },
  {
   "cell_type": "code",
   "execution_count": 21,
   "metadata": {},
   "outputs": [],
   "source": [
    "# Standardizing all columns before appending\n",
    "df_perf_2017 = df_perf_2017.rename(columns={'Subject User ID': 'Subject User Name'})\n",
    "df_perf_2021.drop('Subject Pay Grade', axis=1)\n",
    "df_perf_2022.drop(columns = ['Subject Pay Grade','ELT-1'] , axis=1, inplace = True)\n",
    "df_perf_2023.drop(columns = ['Subject Pay Grade','ELT-1'] , axis=1, inplace = True)"
   ]
  },
  {
   "cell_type": "code",
   "execution_count": 22,
   "metadata": {},
   "outputs": [],
   "source": [
    "# Append all performance datasets together\n",
    "total_perf_eval = pd.concat([df_perf_2017, df_perf_2018, df_perf_2019, df_perf_2020, df_perf_2021, df_perf_2022, df_perf_2023], ignore_index=True)"
   ]
  },
  {
   "cell_type": "code",
   "execution_count": null,
   "metadata": {},
   "outputs": [],
   "source": [
    "total_perf_eval.info"
   ]
  },
  {
   "cell_type": "code",
   "execution_count": 24,
   "metadata": {},
   "outputs": [],
   "source": [
    "# Pivoting data to wide format using pivot_table\n",
    "# Creating a multi-level column index for each type of performance rating by year\n",
    "wide_total_perf_eval = total_perf_eval.pivot_table(\n",
    "    index='Subject User Name', \n",
    "    columns='Year', \n",
    "    values=['Overall Performance Rating', 'Overall Objective Rating', 'Overall Competency Rating'],\n",
    "    aggfunc='first'  # Using 'first' to take the first entry if there are duplicates\n",
    ")\n",
    "\n",
    "# Optionally, fill missing values, e.g., forward fill\n",
    "wide_total_perf_eval.fillna(method='ffill', inplace=True)\n",
    "\n",
    "# Rename 'Subject User Name' into 'Username'\n",
    "wide_total_perf_eval.index.rename('Username', inplace=True)"
   ]
  },
  {
   "cell_type": "code",
   "execution_count": null,
   "metadata": {},
   "outputs": [],
   "source": [
    "wide_total_perf_eval.head()\n",
    "wide_total_perf_eval.shape"
   ]
  },
  {
   "cell_type": "code",
   "execution_count": 26,
   "metadata": {},
   "outputs": [],
   "source": [
    "# Flatten the columns with a custom format\n",
    "wide_total_perf_eval.columns = [' '.join([str(col) for col in cols]) for cols in wide_total_perf_eval.columns.values]"
   ]
  },
  {
   "cell_type": "code",
   "execution_count": 27,
   "metadata": {},
   "outputs": [],
   "source": [
    "# Merge the flattened 'wide_total_perf_eval' with 'employees_and_terminations'\n",
    "final_df = pd.merge(employees_and_terminations, wide_total_perf_eval, on='Username', how='left')"
   ]
  },
  {
   "cell_type": "code",
   "execution_count": null,
   "metadata": {},
   "outputs": [],
   "source": [
    "final_df['Employment Details Termination Date'].count()"
   ]
  },
  {
   "cell_type": "code",
   "execution_count": 29,
   "metadata": {},
   "outputs": [],
   "source": [
    "final_df = update_employee_status(final_df)"
   ]
  },
  {
   "cell_type": "code",
   "execution_count": null,
   "metadata": {},
   "outputs": [],
   "source": [
    "final_df.to_csv('UPDATED_Employee turnover_combined dataset.csv')"
   ]
  }
 ],
 "metadata": {
  "kernelspec": {
   "display_name": "Python 3",
   "language": "python",
   "name": "python3"
  },
  "language_info": {
   "codemirror_mode": {
    "name": "ipython",
    "version": 3
   },
   "file_extension": ".py",
   "mimetype": "text/x-python",
   "name": "python",
   "nbconvert_exporter": "python",
   "pygments_lexer": "ipython3",
   "version": "3.11.9"
  }
 },
 "nbformat": 4,
 "nbformat_minor": 2
}
